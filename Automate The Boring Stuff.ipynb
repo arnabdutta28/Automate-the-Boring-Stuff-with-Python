{
 "cells": [
  {
   "cell_type": "markdown",
   "metadata": {},
   "source": [
    "1. Lesson 3"
   ]
  },
  {
   "cell_type": "code",
   "execution_count": null,
   "metadata": {},
   "outputs": [],
   "source": [
    "# Basic I/O\n",
    "print(\"Hello World!\")\n",
    "print('What is your name?')\n",
    "name = input()\n",
    "print('Your name is ' + name)\n",
    "print('The length of your name is ' + str(len(name)))"
   ]
  },
  {
   "cell_type": "markdown",
   "metadata": {},
   "source": [
    "2. Lesson 5"
   ]
  },
  {
   "cell_type": "markdown",
   "metadata": {},
   "source": [
    "2.a While Loop"
   ]
  },
  {
   "cell_type": "code",
   "execution_count": null,
   "metadata": {},
   "outputs": [],
   "source": [
    "# While loop\n",
    "spam = 0\n",
    "while spam < 5:\n",
    "    print( spam )\n",
    "    spam = spam + 1"
   ]
  },
  {
   "cell_type": "markdown",
   "metadata": {},
   "source": [
    "2.b Break Statements"
   ]
  },
  {
   "cell_type": "code",
   "execution_count": null,
   "metadata": {},
   "outputs": [],
   "source": [
    "# Break Statements\n",
    "while True:\n",
    "    print('Please type your name')\n",
    "    name = input()\n",
    "    if(name == 'your name'):\n",
    "        break"
   ]
  },
  {
   "cell_type": "markdown",
   "metadata": {},
   "source": [
    "2.c Continue Statements"
   ]
  },
  {
   "cell_type": "code",
   "execution_count": null,
   "metadata": {},
   "outputs": [
    {
     "name": "stdout",
     "output_type": "stream",
     "text": [
      "Who are you?\n"
     ]
    }
   ],
   "source": [
    "# Continue Statments\n",
    "while True:\n",
    "  print('Who are you?')\n",
    "  name = input()\n",
    "  if name != 'Joe':\n",
    "    continue              \n",
    "  print('Hello, Joe. What is the password? (It is a fish.)') \n",
    "  password = input()    \n",
    "  if password == 'swordfish':\n",
    "    break                 \n",
    "print('Access granted.')  "
   ]
  },
  {
   "cell_type": "markdown",
   "metadata": {},
   "source": [
    "2.d For Loops"
   ]
  },
  {
   "cell_type": "code",
   "execution_count": 6,
   "metadata": {},
   "outputs": [
    {
     "name": "stdout",
     "output_type": "stream",
     "text": [
      "5050\n"
     ]
    }
   ],
   "source": [
    "# For loop, range function\n",
    "total = 0\n",
    "for i in range(101):\n",
    "    total += i\n",
    "print(total)"
   ]
  },
  {
   "cell_type": "code",
   "execution_count": 8,
   "metadata": {},
   "outputs": [
    {
     "name": "stdout",
     "output_type": "stream",
     "text": [
      "1\n",
      "3\n",
      "5\n",
      "7\n",
      "9\n",
      "11\n",
      "13\n",
      "15\n",
      "17\n",
      "19\n",
      "21\n",
      "23\n",
      "25\n",
      "27\n",
      "29\n",
      "31\n",
      "33\n",
      "35\n",
      "37\n",
      "39\n",
      "41\n",
      "43\n",
      "45\n",
      "47\n",
      "49\n"
     ]
    }
   ],
   "source": [
    "# Range function with start, stop, step\n",
    "for i in range(1,50, 2):\n",
    "    print(i)"
   ]
  },
  {
   "cell_type": "markdown",
   "metadata": {},
   "source": [
    "2.e Importing modules"
   ]
  },
  {
   "cell_type": "code",
   "execution_count": 11,
   "metadata": {},
   "outputs": [
    {
     "name": "stdout",
     "output_type": "stream",
     "text": [
      "1\n",
      "2\n",
      "3\n",
      "3\n",
      "2\n",
      "2\n",
      "5\n",
      "4\n",
      "1\n",
      "1\n"
     ]
    }
   ],
   "source": [
    "# Import function, random module\n",
    "import random\n",
    "for i in range(10):\n",
    "    print(random.randint(1,5))"
   ]
  },
  {
   "cell_type": "code",
   "execution_count": null,
   "metadata": {},
   "outputs": [],
   "source": [
    "# sys.exit() and sys module\n",
    "import sys\n",
    "while True:\n",
    "    print( 'Type exit to exit')\n",
    "    res = input()\n",
    "    if res=='exit':\n",
    "        sys.exit() # won't work in Jupyter\n",
    "    print('You typed '+res)"
   ]
  },
  {
   "cell_type": "markdown",
   "metadata": {},
   "source": [
    "3. Lesson 9"
   ]
  },
  {
   "cell_type": "markdown",
   "metadata": {},
   "source": [
    "3.a Functions"
   ]
  },
  {
   "cell_type": "code",
   "execution_count": 2,
   "metadata": {},
   "outputs": [
    {
     "name": "stdout",
     "output_type": "stream",
     "text": [
      "Hello\n",
      "Hello!\n"
     ]
    }
   ],
   "source": [
    "def hello():\n",
    "    print('Hello')\n",
    "    print('Hello!')\n",
    "hello()"
   ]
  },
  {
   "cell_type": "markdown",
   "metadata": {},
   "source": [
    "3.b Def with parameters"
   ]
  },
  {
   "cell_type": "code",
   "execution_count": 4,
   "metadata": {},
   "outputs": [
    {
     "name": "stdout",
     "output_type": "stream",
     "text": [
      "Hello, Alice\n",
      "Hello, Bob\n"
     ]
    }
   ],
   "source": [
    "def hello(name):\n",
    "    print('Hello, '+name)\n",
    "hello('Alice')\n",
    "hello('Bob')"
   ]
  },
  {
   "cell_type": "markdown",
   "metadata": {},
   "source": [
    "3.c Return statement"
   ]
  },
  {
   "cell_type": "code",
   "execution_count": 12,
   "metadata": {},
   "outputs": [
    {
     "name": "stdout",
     "output_type": "stream",
     "text": [
      "No\n"
     ]
    }
   ],
   "source": [
    "import random\n",
    "def getAnswer(num):\n",
    "    if num == 1:\n",
    "        return 'Yes'\n",
    "    elif num == 2:\n",
    "        return 'No'\n",
    "print(getAnswer(random.randint(1,2)))"
   ]
  },
  {
   "cell_type": "markdown",
   "metadata": {},
   "source": [
    "3.d None statement"
   ]
  },
  {
   "cell_type": "code",
   "execution_count": 14,
   "metadata": {},
   "outputs": [
    {
     "name": "stdout",
     "output_type": "stream",
     "text": [
      "\n"
     ]
    }
   ],
   "source": [
    "# None is similar as null, nil or undefined\n",
    "print() #returns None"
   ]
  },
  {
   "cell_type": "markdown",
   "metadata": {},
   "source": [
    "3.e Keyword Arguments"
   ]
  },
  {
   "cell_type": "code",
   "execution_count": 16,
   "metadata": {},
   "outputs": [
    {
     "name": "stdout",
     "output_type": "stream",
     "text": [
      "Hello\n",
      "World\n",
      "HelloWorld\n"
     ]
    }
   ],
   "source": [
    "print('Hello')\n",
    "print('World')\n",
    "\n",
    "print('Hello', end='') # uses the end argument, the default value is new line\n",
    "print('World')"
   ]
  },
  {
   "cell_type": "code",
   "execution_count": 18,
   "metadata": {},
   "outputs": [
    {
     "name": "stdout",
     "output_type": "stream",
     "text": [
      "Cats Dogs Mice\n",
      "Cats, Dogs, Mice\n"
     ]
    }
   ],
   "source": [
    "print('Cats', 'Dogs', 'Mice') # Default separator is space\n",
    "print('Cats', 'Dogs', 'Mice', sep=\", \") # overrides the separator with , "
   ]
  },
  {
   "cell_type": "markdown",
   "metadata": {},
   "source": [
    "3.f Scope"
   ]
  },
  {
   "cell_type": "code",
   "execution_count": null,
   "metadata": {},
   "outputs": [],
   "source": []
  }
 ],
 "metadata": {
  "kernelspec": {
   "display_name": "Python 3",
   "language": "python",
   "name": "python3"
  },
  "language_info": {
   "codemirror_mode": {
    "name": "ipython",
    "version": 3
   },
   "file_extension": ".py",
   "mimetype": "text/x-python",
   "name": "python",
   "nbconvert_exporter": "python",
   "pygments_lexer": "ipython3",
   "version": "3.7.0"
  },
  "toc-autonumbering": false,
  "toc-showcode": false,
  "toc-showmarkdowntxt": true,
  "toc-showtags": false
 },
 "nbformat": 4,
 "nbformat_minor": 2
}
